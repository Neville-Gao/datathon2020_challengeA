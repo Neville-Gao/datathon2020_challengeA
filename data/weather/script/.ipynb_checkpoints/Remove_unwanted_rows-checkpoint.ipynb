{
 "cells": [
  {
   "cell_type": "markdown",
   "metadata": {},
   "source": [
    "### config"
   ]
  },
  {
   "cell_type": "code",
   "execution_count": 24,
   "metadata": {},
   "outputs": [],
   "source": [
    "import pandas as pd\n",
    "import os\n",
    "\n",
    "inputPath = \"../source/\"\n",
    "outputPath = \"../aggregated/\"\n",
    "files = os.listdir(inputPath)"
   ]
  },
  {
   "cell_type": "markdown",
   "metadata": {},
   "source": [
    "### read"
   ]
  },
  {
   "cell_type": "code",
   "execution_count": 12,
   "metadata": {},
   "outputs": [],
   "source": [
    "df = pd.read_csv(inputPath + files[0])"
   ]
  },
  {
   "cell_type": "markdown",
   "metadata": {},
   "source": [
    "### remove not required rows"
   ]
  },
  {
   "cell_type": "code",
   "execution_count": 14,
   "metadata": {},
   "outputs": [
    {
     "data": {
      "text/plain": [
       "array(['PM2.5-EPA-1h', 'PM2.5-EPA-1h-NOPK', 'PM2.5-EPA-1h-NOPK-EPA-24h',\n",
       "       'PM2.5-EPA-1h-PKIND', 'PM2.5-EPA-24h', 'PM10-EPA-1h',\n",
       "       'PM10-EPA-1h-NOPK', 'PM10-EPA-1h-NOPK-EPA-24h',\n",
       "       'PM10-EPA-1h-PKIND', 'PM10-EPA-24h', 'TPH.TEMP-EPA-1h',\n",
       "       'TPH.RH-EPA-1h', 'TPH.TEMP', 'TPH.RH', 'TPH.PRESSURE', 'WS',\n",
       "       'PM2.5', 'PM10'], dtype=object)"
      ]
     },
     "execution_count": 14,
     "metadata": {},
     "output_type": "execute_result"
    }
   ],
   "source": [
    "df.type.unique()"
   ]
  },
  {
   "cell_type": "code",
   "execution_count": 15,
   "metadata": {},
   "outputs": [],
   "source": [
    "notRequiredType = ['PM2.5-EPA-1h', 'PM2.5-EPA-1h-NOPK', 'PM2.5-EPA-1h-NOPK-EPA-24h',\n",
    "       'PM2.5-EPA-1h-PKIND', 'PM2.5-EPA-24h', 'PM10-EPA-1h',\n",
    "       'PM10-EPA-1h-NOPK', 'PM10-EPA-1h-NOPK-EPA-24h',\n",
    "       'PM10-EPA-1h-PKIND', 'PM10-EPA-24h', 'TPH.TEMP-EPA-1h',\n",
    "       'TPH.RH-EPA-1h',  'WS',\n",
    "       'PM2.5', 'PM10']"
   ]
  },
  {
   "cell_type": "code",
   "execution_count": 43,
   "metadata": {},
   "outputs": [],
   "source": [
    "'''\n",
    "Function to read dataframe and remove not needed rows\n",
    "input: dataframe, column name, list of values to match the rows\n",
    "output: write result to file, return new dataframe\n",
    "'''\n",
    "def removeAndWrite(df, column, notRequiredList):\n",
    "    \n",
    "    df = df[~df[column].isin(notRequiredList)]\n",
    "    \n",
    "    outFileName = files[0].strip(\".csv\") + \"_out.csv\"\n",
    "    df.to_csv(outputPath + outFileName)\n",
    "    \n",
    "    print(f\"File written to {outputPath + outFileName}\")\n",
    "    return df"
   ]
  },
  {
   "cell_type": "code",
   "execution_count": 45,
   "metadata": {},
   "outputs": [
    {
     "name": "stdout",
     "output_type": "stream",
     "text": [
      "File written to ../aggregated/Microclimate_Sensor_Reading_out.csv\n"
     ]
    }
   ],
   "source": [
    "dfRemoved = removeAndWrite(df, \"type\", notRequiredType)"
   ]
  },
  {
   "cell_type": "code",
   "execution_count": null,
   "metadata": {},
   "outputs": [],
   "source": []
  }
 ],
 "metadata": {
  "kernelspec": {
   "display_name": "Python 3",
   "language": "python",
   "name": "python3"
  },
  "language_info": {
   "codemirror_mode": {
    "name": "ipython",
    "version": 3
   },
   "file_extension": ".py",
   "mimetype": "text/x-python",
   "name": "python",
   "nbconvert_exporter": "python",
   "pygments_lexer": "ipython3",
   "version": "3.6.10"
  }
 },
 "nbformat": 4,
 "nbformat_minor": 4
}
