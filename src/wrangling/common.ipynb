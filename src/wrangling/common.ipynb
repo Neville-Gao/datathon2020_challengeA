{
 "cells": [
  {
   "cell_type": "code",
   "execution_count": 2,
   "metadata": {},
   "outputs": [],
   "source": [
    "'''\n",
    "Function to read dataframe and remove not needed rows\n",
    "input: dataframe, column name, list of values to match the rows\n",
    "output: write result to file, return new dataframe\n",
    "'''\n",
    "def removeAndWrite(df, column, notRequired, fileName, outputPath):\n",
    "    \n",
    "    if (type(notRequired) == list):\n",
    "        df = df[~df[column].isin(notRequired)]\n",
    "    elif (type(notRequired) == str):\n",
    "        df = df[df[column] != notRequired]\n",
    "    else:\n",
    "        print(\"parameter 'notRequired' should be either a string or list, received neither\")\n",
    "    \n",
    "    outFileName = fileName.strip(\".csv\") + \"_out.csv\"\n",
    "    df.to_csv(outputPath + outFileName)\n",
    "    \n",
    "    print(f\"File written to {outputPath + outFileName}\")\n",
    "    return df"
   ]
  },
  {
   "cell_type": "code",
   "execution_count": null,
   "metadata": {},
   "outputs": [],
   "source": []
  }
 ],
 "metadata": {
  "kernelspec": {
   "display_name": "Python 3",
   "language": "python",
   "name": "python3"
  },
  "language_info": {
   "codemirror_mode": {
    "name": "ipython",
    "version": 3
   },
   "file_extension": ".py",
   "mimetype": "text/x-python",
   "name": "python",
   "nbconvert_exporter": "python",
   "pygments_lexer": "ipython3",
   "version": "3.6.10"
  }
 },
 "nbformat": 4,
 "nbformat_minor": 4
}
