{
 "cells": [
  {
   "cell_type": "markdown",
   "metadata": {},
   "source": [
    "### Preparation"
   ]
  },
  {
   "cell_type": "code",
   "execution_count": 4,
   "metadata": {},
   "outputs": [],
   "source": [
    "import pandas as pd\n",
    "import os\n",
    "import import_ipynb\n",
    "from common import removeAndWrite\n",
    "\n",
    "inputPath = \"../../data/weather/source/\"\n",
    "outputPath = \"../../data/weather/aggregated/\"\n",
    "files = os.listdir(inputPath)"
   ]
  },
  {
   "cell_type": "markdown",
   "metadata": {},
   "source": [
    "### Read file"
   ]
  },
  {
   "cell_type": "code",
   "execution_count": 5,
   "metadata": {},
   "outputs": [],
   "source": [
    "df = pd.read_csv(inputPath + files[0])"
   ]
  },
  {
   "cell_type": "markdown",
   "metadata": {},
   "source": [
    "### Remove not required rows"
   ]
  },
  {
   "cell_type": "code",
   "execution_count": 6,
   "metadata": {},
   "outputs": [
    {
     "data": {
      "text/plain": [
       "array(['PM2.5-EPA-1h', 'PM2.5-EPA-1h-NOPK', 'PM2.5-EPA-1h-NOPK-EPA-24h',\n",
       "       'PM2.5-EPA-1h-PKIND', 'PM2.5-EPA-24h', 'PM10-EPA-1h',\n",
       "       'PM10-EPA-1h-NOPK', 'PM10-EPA-1h-NOPK-EPA-24h',\n",
       "       'PM10-EPA-1h-PKIND', 'PM10-EPA-24h', 'TPH.TEMP-EPA-1h',\n",
       "       'TPH.RH-EPA-1h', 'TPH.TEMP', 'TPH.RH', 'TPH.PRESSURE', 'WS',\n",
       "       'PM2.5', 'PM10'], dtype=object)"
      ]
     },
     "execution_count": 6,
     "metadata": {},
     "output_type": "execute_result"
    }
   ],
   "source": [
    "df.type.unique()"
   ]
  },
  {
   "cell_type": "code",
   "execution_count": 7,
   "metadata": {},
   "outputs": [],
   "source": [
    "notRequiredType = ['PM2.5-EPA-1h', 'PM2.5-EPA-1h-NOPK', 'PM2.5-EPA-1h-NOPK-EPA-24h',\n",
    "       'PM2.5-EPA-1h-PKIND', 'PM2.5-EPA-24h', 'PM10-EPA-1h',\n",
    "       'PM10-EPA-1h-NOPK', 'PM10-EPA-1h-NOPK-EPA-24h',\n",
    "       'PM10-EPA-1h-PKIND', 'PM10-EPA-24h', 'TPH.TEMP-EPA-1h',\n",
    "       'TPH.RH-EPA-1h',  'WS',\n",
    "       'PM2.5', 'PM10']\n",
    "column = \"type\"\n",
    "fileName = files[0]"
   ]
  },
  {
   "cell_type": "code",
   "execution_count": 9,
   "metadata": {},
   "outputs": [
    {
     "name": "stdout",
     "output_type": "stream",
     "text": [
      "File written to ../../data/weather/aggregated/Microclimate_Sensor_Reading_out.csv\n"
     ]
    }
   ],
   "source": [
    "dfRemoved = removeAndWrite(df, column, notRequiredType, fileName, outputPath)"
   ]
  },
  {
   "cell_type": "code",
   "execution_count": null,
   "metadata": {},
   "outputs": [],
   "source": []
  }
 ],
 "metadata": {
  "kernelspec": {
   "display_name": "Python 3",
   "language": "python",
   "name": "python3"
  },
  "language_info": {
   "codemirror_mode": {
    "name": "ipython",
    "version": 3
   },
   "file_extension": ".py",
   "mimetype": "text/x-python",
   "name": "python",
   "nbconvert_exporter": "python",
   "pygments_lexer": "ipython3",
   "version": "3.6.10"
  }
 },
 "nbformat": 4,
 "nbformat_minor": 4
}
